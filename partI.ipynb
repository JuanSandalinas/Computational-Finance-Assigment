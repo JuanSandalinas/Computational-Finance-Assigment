{
 "cells": [
  {
   "cell_type": "code",
   "execution_count": null,
   "metadata": {},
   "outputs": [],
   "source": [
    "import numpy as np\n",
    "import matplotlib.pyplot as plt\n",
    "from black_scholes import Black_scholes_set2"
   ]
  },
  {
   "cell_type": "markdown",
   "metadata": {},
   "source": [
    "# Part I: Option Valuation"
   ]
  },
  {
   "cell_type": "markdown",
   "metadata": {},
   "source": [
    "## A)"
   ]
  },
  {
   "cell_type": "code",
   "execution_count": null,
   "metadata": {},
   "outputs": [],
   "source": [
    "## Varying strike price\n",
    "\n",
    "vols = np.linspace(0,1,num = 50)\n",
    "S = 100\n",
    "T = 1.\n",
    "r = 0.06\n",
    "K = 99\n",
    "\n",
    "for n_samples in n_samples_list:\n",
    "    black_scholes = np.vectorize(Black_scholes2, excluded=['S','r','T','K'])(S,r,vols,T,N,K)\n",
    "    h_black_scholes = np.vectorize(lambda x: x.mc_european(n_samples))(black_scholes)\n",
    "    plt.plot(vols,v_black_scholes, label = \"Black scholes\")\n",
    "\n",
    "plt.xlabel(\"Volatility\")\n",
    "plt.ylabel(\"Call option price\")\n",
    "plt.legend()\n",
    "plt.show()\n"
   ]
  },
  {
   "cell_type": "markdown",
   "metadata": {},
   "source": [
    "## B)"
   ]
  },
  {
   "cell_type": "code",
   "execution_count": null,
   "metadata": {},
   "outputs": [],
   "source": []
  }
 ],
 "metadata": {
  "language_info": {
   "name": "python"
  }
 },
 "nbformat": 4,
 "nbformat_minor": 2
}
