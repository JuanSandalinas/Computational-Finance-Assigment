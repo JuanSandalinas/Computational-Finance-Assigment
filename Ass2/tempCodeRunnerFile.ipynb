num_simulations = 1000
num = 100

S = 100
T = 1.
r = 0.05
K = 100
iota = 0.04
k = 2
sigma = 0.1
p = -0.7
Bs = np.linspace(120,600, num = num)
black_scholes = []
for _ in range(num_simulations):
    black_scholes += [np.vectorize(Milstein, excluded=['S','r','T','K','iota','k','sigma','p'])(S,r,T,K,iota,k,sigma,p,Bs)]
black_scholes = np.array(black_scholes)
print("First")
np.vectorize(lambda x: x.milstein_scheme())(black_scholes)
values = np.vectorize(lambda x: x.mi_H)(black_scholes) 